{
 "cells": [
  {
   "cell_type": "code",
   "execution_count": null,
   "metadata": {},
   "outputs": [],
   "source": [
    "import pypsa\n",
    "import numpy as np\n",
    "import pandas as pd\n",
    "import matplotlib.pyplot as plt\n",
    "plt.style.use('bmh')\n",
    "%matplotlib inline\n",
    "from pypsa.linopf import (get_var, define_constraints, linexpr, join_exprs,\n",
    "                          network_lopf, ilopf)"
   ]
  },
  {
   "cell_type": "code",
   "execution_count": null,
   "metadata": {},
   "outputs": [],
   "source": [
    "basedir = \"../\" \n",
    "#basedir = \"~/mnt/lin/pypsa-eur/\""
   ]
  },
  {
   "cell_type": "code",
   "execution_count": null,
   "metadata": {},
   "outputs": [],
   "source": [
    "# Perfect foresight:  sovled network\n",
    "n2013 = pypsa.Network(basedir + \"networks/2013/elec_s_40_ec_lv1.0_Co2L0p0-3H.nc\")"
   ]
  },
  {
   "cell_type": "code",
   "execution_count": null,
   "metadata": {},
   "outputs": [],
   "source": [
    "# Perfect foresight:  sovled network\n",
    "n_solved = pypsa.Network(basedir + \"results/networks/2013/elec_s_40_ec_lv1.0_Co2L0p0-3H.nc\")"
   ]
  },
  {
   "cell_type": "code",
   "execution_count": null,
   "metadata": {},
   "outputs": [],
   "source": [
    "# Perfect foresight:  sovled operation network\n",
    "n_op = pypsa.Network(basedir + \"results/networks/2013/elec_s_40_ec_lv1.0_Co2L0p0-3H_op.nc\")"
   ]
  },
  {
   "cell_type": "code",
   "execution_count": null,
   "metadata": {},
   "outputs": [],
   "source": [
    "# rolling horizon, without setting bidding price\n",
    "n_rh = pypsa.Network(basedir + \"results/networks/2013/elec_s_40_ec_lv1.0_Co2L0p0-3H_rh.nc\")"
   ]
  },
  {
   "cell_type": "code",
   "execution_count": null,
   "metadata": {},
   "outputs": [],
   "source": [
    "# rolling horizon for each snapshot\n",
    "#n_rh_sp_3h = pypsa.Network(basedir + \"results/networks/2013/elec_s_40_ec_lv1.0_Co2L0p0-3H_3h_rh_sp.nc\")"
   ]
  },
  {
   "cell_type": "code",
   "execution_count": null,
   "metadata": {},
   "outputs": [],
   "source": [
    "## rolling horizon for two weeks and one week overlap\n",
    "n_rh_sp_2w = pypsa.Network(basedir + \"results/networks/2013/elec_s_40_ec_lv1.0_Co2L0p0-3H_2w_rh_sp.nc\")"
   ]
  },
  {
   "cell_type": "code",
   "execution_count": null,
   "metadata": {},
   "outputs": [],
   "source": [
    "n = n_op\n",
    "\n",
    "fig, ax = plt.subplots()\n",
    "\n",
    "fig.set_size_inches(18.5, 10.5, forward=True)\n",
    "\n",
    "e = pd.concat((n.stores_t.e.groupby(n.stores.carrier,axis=1).sum(),\n",
    "               n.storage_units_t.state_of_charge.groupby(n.storage_units.carrier,axis=1).sum()),axis=1)\n",
    "\n",
    "e = e/1e6\n",
    "#e.drop(e.columns[e.abs().max() < 1e6],axis=1,inplace=True)\n",
    "\n",
    "e.plot(ax=ax)"
   ]
  },
  {
   "cell_type": "code",
   "execution_count": null,
   "metadata": {},
   "outputs": [],
   "source": [
    "fig, ax = plt.subplots()\n",
    "fig.set_size_inches((16,6))\n",
    "n_op.buses_t.marginal_price.loc[:,[\"AT0 0\",\"AT0 0 H2\", \"AT0 0 hydro\", \"AT0 0 battery\", \"AT0 0 PHS\"]].loc[\"2013-05-01 00:00:00\":,:].plot(ax=ax)"
   ]
  },
  {
   "cell_type": "code",
   "execution_count": null,
   "metadata": {},
   "outputs": [],
   "source": [
    "fig, ax = plt.subplots()\n",
    "fig.set_size_inches((16,6))\n",
    "n_rh_sp_2w.links_t.marginal_cost.loc[\"2013-05-01 00:00:00\":,[\"AT0 0 H2 Electrolysis\",\"AT0 0 H2 Fuel Cell\", \"AT0 0 battery charger\", \"AT0 0 battery discharger\", \"AT0 0 hydro discharger\"]].plot(ax=ax)    "
   ]
  },
  {
   "cell_type": "code",
   "execution_count": null,
   "metadata": {},
   "outputs": [],
   "source": [
    "fig, ax = plt.subplots()\n",
    "fig.set_size_inches((16,6))\n",
    "n_rh_sp_2w.buses_t.marginal_price.loc[:,[\"AT0 0\",\"AT0 0 H2\", \"AT0 0 hydro\", \"AT0 0 battery\", \"AT0 0 PHS\"]].loc[\"2013-05-01 00:00:00\":,:].plot(ax=ax)"
   ]
  },
  {
   "cell_type": "code",
   "execution_count": null,
   "metadata": {},
   "outputs": [],
   "source": [
    "n = n_rh_sp_2w\n",
    "\n",
    "fig, ax = plt.subplots()\n",
    "\n",
    "fig.set_size_inches(18.5, 10.5, forward=True)\n",
    "\n",
    "e = pd.concat((n.stores_t.e.groupby(n.stores.carrier,axis=1).sum(),\n",
    "               n.storage_units_t.state_of_charge.groupby(n.storage_units.carrier,axis=1).sum()),axis=1)\n",
    "\n",
    "e = e/1e6\n",
    "#e.drop(e.columns[e.abs().max() < 1e6],axis=1,inplace=True)\n",
    "\n",
    "e.plot(ax=ax)"
   ]
  },
  {
   "cell_type": "code",
   "execution_count": null,
   "metadata": {},
   "outputs": [],
   "source": [
    "n = n_rh\n",
    "\n",
    "fig, ax = plt.subplots()\n",
    "\n",
    "fig.set_size_inches(18.5, 10.5, forward=True)\n",
    "\n",
    "e = pd.concat((n.stores_t.e.groupby(n.stores.carrier,axis=1).sum(),\n",
    "               n.storage_units_t.state_of_charge.groupby(n.storage_units.carrier,axis=1).sum()),axis=1)\n",
    "\n",
    "e = e/1e6\n",
    "#e.drop(e.columns[e.abs().max() < 1e6],axis=1,inplace=True)\n",
    "\n",
    "e.plot(ax=ax)"
   ]
  },
  {
   "cell_type": "code",
   "execution_count": null,
   "metadata": {},
   "outputs": [],
   "source": []
  }
 ],
 "metadata": {
  "kernelspec": {
   "display_name": "pypsa-eur-sp",
   "language": "python",
   "name": "pypsa-eur-sp"
  },
  "language_info": {
   "codemirror_mode": {
    "name": "ipython",
    "version": 3
   },
   "file_extension": ".py",
   "mimetype": "text/x-python",
   "name": "python",
   "nbconvert_exporter": "python",
   "pygments_lexer": "ipython3",
   "version": "3.7.9"
  }
 },
 "nbformat": 4,
 "nbformat_minor": 4
}
