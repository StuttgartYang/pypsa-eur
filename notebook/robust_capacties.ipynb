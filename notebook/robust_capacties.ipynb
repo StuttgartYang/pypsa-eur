{
 "cells": [
  {
   "cell_type": "code",
   "execution_count": 1,
   "metadata": {},
   "outputs": [],
   "source": [
    "import pypsa\n",
    "import numpy as np\n",
    "import pandas as pd\n",
    "import matplotlib.pyplot as plt\n",
    "params = {'text.color' : '#3B3B3B',\n",
    "          'font.size':'20',\n",
    "          'legend.fontsize': '18',\n",
    "          'figure.figsize': (16, 7),\n",
    "         'axes.labelsize': '18',\n",
    "         'axes.titlesize':'18',\n",
    "         'axes.labelcolor' : '#3B3B3B', # 9A9A2E from template\n",
    "          'xtick.color' : '#3B3B3B',\n",
    "          'ytick.color' : '#3B3B3B',\n",
    "         'xtick.labelsize':'18',\n",
    "         'ytick.labelsize':'18'}\n",
    "plt.style.use('bmh')\n",
    "%matplotlib inline\n",
    "from pypsa.linopf import (get_var, define_constraints, linexpr, join_exprs,\n",
    "                          network_lopf, ilopf)\n",
    "\n",
    "from six import iteritems"
   ]
  },
  {
   "cell_type": "code",
   "execution_count": 2,
   "metadata": {},
   "outputs": [],
   "source": [
    "#basedir = \"../\" \n",
    "basedir = \"~/mnt/lin/pypsa-eur/pypsa-eur/results/\""
   ]
  },
  {
   "cell_type": "code",
   "execution_count": 5,
   "metadata": {},
   "outputs": [
    {
     "data": {
      "text/html": [
       "<div>\n",
       "<style scoped>\n",
       "    .dataframe tbody tr th:only-of-type {\n",
       "        vertical-align: middle;\n",
       "    }\n",
       "\n",
       "    .dataframe tbody tr th {\n",
       "        vertical-align: top;\n",
       "    }\n",
       "\n",
       "    .dataframe thead th {\n",
       "        text-align: right;\n",
       "    }\n",
       "</style>\n",
       "<table border=\"1\" class=\"dataframe\">\n",
       "  <thead>\n",
       "    <tr style=\"text-align: right;\">\n",
       "      <th></th>\n",
       "      <th>2013</th>\n",
       "      <th>2014</th>\n",
       "      <th>2015</th>\n",
       "      <th>2016</th>\n",
       "      <th>2017</th>\n",
       "      <th>2018</th>\n",
       "      <th>robust_capacities</th>\n",
       "    </tr>\n",
       "  </thead>\n",
       "  <tbody>\n",
       "    <tr>\n",
       "      <th>12998</th>\n",
       "      <td>1000.0</td>\n",
       "      <td>1000.0</td>\n",
       "      <td>1000.0</td>\n",
       "      <td>1000.0</td>\n",
       "      <td>1000.0</td>\n",
       "      <td>1000.0</td>\n",
       "      <td>1000.0</td>\n",
       "    </tr>\n",
       "    <tr>\n",
       "      <th>14531</th>\n",
       "      <td>250.0</td>\n",
       "      <td>250.0</td>\n",
       "      <td>250.0</td>\n",
       "      <td>250.0</td>\n",
       "      <td>250.0</td>\n",
       "      <td>250.0</td>\n",
       "      <td>250.0</td>\n",
       "    </tr>\n",
       "    <tr>\n",
       "      <th>14537</th>\n",
       "      <td>0.0</td>\n",
       "      <td>0.0</td>\n",
       "      <td>0.0</td>\n",
       "      <td>0.0</td>\n",
       "      <td>0.0</td>\n",
       "      <td>0.0</td>\n",
       "      <td>0.0</td>\n",
       "    </tr>\n",
       "    <tr>\n",
       "      <th>14538</th>\n",
       "      <td>0.0</td>\n",
       "      <td>0.0</td>\n",
       "      <td>0.0</td>\n",
       "      <td>0.0</td>\n",
       "      <td>0.0</td>\n",
       "      <td>0.0</td>\n",
       "      <td>0.0</td>\n",
       "    </tr>\n",
       "    <tr>\n",
       "      <th>14539</th>\n",
       "      <td>0.0</td>\n",
       "      <td>0.0</td>\n",
       "      <td>0.0</td>\n",
       "      <td>0.0</td>\n",
       "      <td>0.0</td>\n",
       "      <td>0.0</td>\n",
       "      <td>0.0</td>\n",
       "    </tr>\n",
       "    <tr>\n",
       "      <th>...</th>\n",
       "      <td>...</td>\n",
       "      <td>...</td>\n",
       "      <td>...</td>\n",
       "      <td>...</td>\n",
       "      <td>...</td>\n",
       "      <td>...</td>\n",
       "      <td>...</td>\n",
       "    </tr>\n",
       "    <tr>\n",
       "      <th>T20</th>\n",
       "      <td>0.0</td>\n",
       "      <td>0.0</td>\n",
       "      <td>0.0</td>\n",
       "      <td>0.0</td>\n",
       "      <td>0.0</td>\n",
       "      <td>0.0</td>\n",
       "      <td>0.0</td>\n",
       "    </tr>\n",
       "    <tr>\n",
       "      <th>T21</th>\n",
       "      <td>0.0</td>\n",
       "      <td>0.0</td>\n",
       "      <td>0.0</td>\n",
       "      <td>0.0</td>\n",
       "      <td>0.0</td>\n",
       "      <td>0.0</td>\n",
       "      <td>0.0</td>\n",
       "    </tr>\n",
       "    <tr>\n",
       "      <th>T22</th>\n",
       "      <td>0.0</td>\n",
       "      <td>0.0</td>\n",
       "      <td>0.0</td>\n",
       "      <td>0.0</td>\n",
       "      <td>0.0</td>\n",
       "      <td>0.0</td>\n",
       "      <td>0.0</td>\n",
       "    </tr>\n",
       "    <tr>\n",
       "      <th>T23</th>\n",
       "      <td>0.0</td>\n",
       "      <td>0.0</td>\n",
       "      <td>0.0</td>\n",
       "      <td>0.0</td>\n",
       "      <td>0.0</td>\n",
       "      <td>0.0</td>\n",
       "      <td>0.0</td>\n",
       "    </tr>\n",
       "    <tr>\n",
       "      <th>T24</th>\n",
       "      <td>0.0</td>\n",
       "      <td>0.0</td>\n",
       "      <td>0.0</td>\n",
       "      <td>0.0</td>\n",
       "      <td>0.0</td>\n",
       "      <td>0.0</td>\n",
       "      <td>0.0</td>\n",
       "    </tr>\n",
       "  </tbody>\n",
       "</table>\n",
       "<p>201 rows × 7 columns</p>\n",
       "</div>"
      ],
      "text/plain": [
       "         2013    2014    2015    2016    2017    2018  robust_capacities\n",
       "12998  1000.0  1000.0  1000.0  1000.0  1000.0  1000.0             1000.0\n",
       "14531   250.0   250.0   250.0   250.0   250.0   250.0              250.0\n",
       "14537     0.0     0.0     0.0     0.0     0.0     0.0                0.0\n",
       "14538     0.0     0.0     0.0     0.0     0.0     0.0                0.0\n",
       "14539     0.0     0.0     0.0     0.0     0.0     0.0                0.0\n",
       "...       ...     ...     ...     ...     ...     ...                ...\n",
       "T20       0.0     0.0     0.0     0.0     0.0     0.0                0.0\n",
       "T21       0.0     0.0     0.0     0.0     0.0     0.0                0.0\n",
       "T22       0.0     0.0     0.0     0.0     0.0     0.0                0.0\n",
       "T23       0.0     0.0     0.0     0.0     0.0     0.0                0.0\n",
       "T24       0.0     0.0     0.0     0.0     0.0     0.0                0.0\n",
       "\n",
       "[201 rows x 7 columns]"
      ]
     },
     "execution_count": 5,
     "metadata": {},
     "output_type": "execute_result"
    }
   ],
   "source": [
    "nodal_capacities = pd.read_csv(basedir+\"networks/iteration5/robust_capacities.csv\",index_col=list(range(2)),header=[0])\n",
    "links_capacities = nodal_capacities.loc['links']\n",
    "links_capacities"
   ]
  },
  {
   "cell_type": "code",
   "execution_count": 4,
   "metadata": {},
   "outputs": [
    {
     "name": "stdout",
     "output_type": "stream",
     "text": [
      "                2013      2014      2015      2016      2017      2018\n",
      "iteration0  3.016237  2.890987  2.984812  3.047696  2.966786  3.095333\n",
      "iteration1  3.074623  3.009682  3.019045  3.100090  3.007185  3.042576\n",
      "iteration2  3.077503  3.051547  3.048031  3.102335  3.043178  3.053686\n",
      "iteration3  3.082875  3.067586  3.063901  3.104667  3.063790  3.066559\n",
      "iteration4  3.043606  3.043152  3.056919  3.046901  3.057096  3.040049\n",
      "iteration5  3.065082  3.065082  3.065082  3.065082  3.065082  3.065082\n"
     ]
    },
    {
     "data": {
      "text/plain": [
       "Text(0, 0.5, 'Optimal capacities from weather years [TW]')"
      ]
     },
     "execution_count": 4,
     "metadata": {},
     "output_type": "execute_result"
    },
    {
     "data": {
      "image/png": "[encoded data removed]",
      "text/plain": [
       "<Figure size 720x576 with 1 Axes>"
      ]
     },
     "metadata": {
      "needs_background": "light"
     },
     "output_type": "display_data"
    }
   ],
   "source": [
    "\n",
    "columns = [\"iteration0\", \"iteration1\", \"iteration2\",\"iteration3\",\"iteration4\", \"iteration5\"]\n",
    "index = [\"2013\", \"2014\", \"2015\",\"2016\", \"2017\", \"2018\"]\n",
    "cost = pd.DataFrame(index = index, columns = columns)\n",
    "\n",
    "for i in range(0,6):\n",
    "    cost_df = pd.read_csv(basedir + \"summary/csvs/iteration\"+str(i)+\"/capacities.csv\",index_col=list(range(2)),header=[0])\n",
    "    total = cost_df.sum()/1e6\n",
    "    cost[\"iteration\"+str(i)] = total\n",
    "\n",
    "cost = cost.T\n",
    "print(cost)\n",
    "plt.figure(figsize=(10,8))    \n",
    "plt.bar(cost.index, cost.mean(axis=1),yerr=cost.std(axis=1), capsize=10) \n",
    "plt.ylabel(\"Optimal capacities from weather years [TW]\")\n",
    "\n"
   ]
  },
  {
   "cell_type": "code",
   "execution_count": 4,
   "metadata": {},
   "outputs": [
    {
     "ename": "NameError",
     "evalue": "name 'nodal_capacities' is not defined",
     "output_type": "error",
     "traceback": [
      "\u001b[0;31m---------------------------------------------------------------------------\u001b[0m",
      "\u001b[0;31mNameError\u001b[0m                                 Traceback (most recent call last)",
      "\u001b[0;32m<ipython-input-4-d3a9cd7dd675>\u001b[0m in \u001b[0;36m<module>\u001b[0;34m\u001b[0m\n\u001b[0;32m----> 1\u001b[0;31m \u001b[0mlinks_capacities\u001b[0m \u001b[0;34m=\u001b[0m \u001b[0mnodal_capacities\u001b[0m\u001b[0;34m.\u001b[0m\u001b[0mloc\u001b[0m\u001b[0;34m[\u001b[0m\u001b[0;34m'links'\u001b[0m\u001b[0;34m]\u001b[0m\u001b[0;34m\u001b[0m\u001b[0;34m\u001b[0m\u001b[0m\n\u001b[0m\u001b[1;32m      2\u001b[0m \u001b[0mn\u001b[0m \u001b[0;34m=\u001b[0m \u001b[0mn2014_pre\u001b[0m\u001b[0;34m\u001b[0m\u001b[0;34m\u001b[0m\u001b[0m\n\u001b[1;32m      3\u001b[0m \u001b[0mlinks_capacities\u001b[0m\u001b[0;34m\u001b[0m\u001b[0;34m\u001b[0m\u001b[0m\n\u001b[1;32m      4\u001b[0m \u001b[0;34m\u001b[0m\u001b[0m\n\u001b[1;32m      5\u001b[0m \u001b[0;31m# links_dc_i = n.links.index[n.links.p_nom_extendable]\u001b[0m\u001b[0;34m\u001b[0m\u001b[0;34m\u001b[0m\u001b[0;34m\u001b[0m\u001b[0m\n",
      "\u001b[0;31mNameError\u001b[0m: name 'nodal_capacities' is not defined"
     ]
    }
   ],
   "source": [
    "links_capacities = nodal_capacities.loc['links']\n",
    "n = n2014_pre\n",
    "links_capacities\n",
    "\n",
    "# links_dc_i = n.links.index[n.links.p_nom_extendable]\n",
    "# links_dc_i\n",
    "links_capacities.loc[links_dc_i, \"robust_capacities\"]\n",
    "n.links.loc[links_dc_i, 'p_nom'] = links_capacities.loc[links_dc_i, \"robust_capacities\"]\n",
    "n.links.loc[links_dc_i, 'p_nom_extendable'] = False\n",
    "n.links.loc[links_dc_i, 'p_nom']"
   ]
  },
  {
   "cell_type": "code",
   "execution_count": 3,
   "metadata": {},
   "outputs": [
    {
     "data": {
      "text/plain": [
       "Text(0, 0.5, 'Average annual costs (Billion € ${a^-1}$ )')"
      ]
     },
     "execution_count": 3,
     "metadata": {},
     "output_type": "execute_result"
    },
    {
     "data": {
      "image/png": "[encoded data removed]",
      "text/plain": [
       "<Figure size 720x576 with 1 Axes>"
      ]
     },
     "metadata": {
      "needs_background": "light"
     },
     "output_type": "display_data"
    }
   ],
   "source": [
    "\n",
    "columns = [\"iteration0\", \"iteration1\", \"iteration2\",\"iteration3\",\"iteration4\", \"iteration5\"]\n",
    "index = [\"2013\", \"2014\", \"2015\",\"2016\", \"2017\", \"2018\"]\n",
    "cost = pd.DataFrame(index = index, columns = columns)\n",
    "\n",
    "for i in range(0,6):\n",
    "    cost_df = pd.read_csv(basedir + \"summary/csvs/iteration\"+str(i)+\"/costs.csv\",index_col=list(range(3)),header=[0])\n",
    "    total = cost_df.sum()/1e9\n",
    "    cost[\"iteration\"+str(i)] = total\n",
    "cost = cost.T\n",
    "cost\n",
    "plt.figure(figsize=(10,8))    \n",
    "plt.bar(cost.index, cost.mean(axis=1),yerr=cost.std(axis=1), capsize=8) \n",
    "plt.ylabel(\"Average annual costs (Billion € ${a^-1}$ )\")\n",
    "\n",
    "\n"
   ]
  },
  {
   "cell_type": "code",
   "execution_count": null,
   "metadata": {},
   "outputs": [],
   "source": [
    "def load_costs(Nyears=1., tech_costs=None, config=None, elec_config=None):\n",
    "    if tech_costs is None:\n",
    "        tech_costs = snakemake.input.tech_costs\n",
    "\n",
    "    if config is None:\n",
    "        config = snakemake.config['costs']\n",
    "\n",
    "    # set all asset costs and other parameters\n",
    "    costs = pd.read_csv(tech_costs, index_col=list(range(3))).sort_index()\n",
    "\n",
    "    # correct units to MW and EUR\n",
    "    costs.loc[costs.unit.str.contains(\"/kW\"),\"value\"] *= 1e3\n",
    "    costs.loc[costs.unit.str.contains(\"USD\"),\"value\"] *= config['USD2013_to_EUR2013']\n",
    "\n",
    "    costs = (costs.loc[idx[:,config['year'],:], \"value\"]\n",
    "             .unstack(level=2).groupby(\"technology\").sum(min_count=1))\n",
    "\n",
    "    costs = costs.fillna({\"CO2 intensity\" : 0,\n",
    "                          \"FOM\" : 0,\n",
    "                          \"VOM\" : 0,\n",
    "                          \"discount rate\" : config['discountrate'],\n",
    "                          \"efficiency\" : 1,\n",
    "                          \"fuel\" : 0,\n",
    "                          \"investment\" : 0,\n",
    "                          \"lifetime\" : 25})\n",
    "\n",
    "    costs[\"capital_cost\"] = ((annuity(costs[\"lifetime\"], costs[\"discount rate\"]) +\n",
    "                             costs[\"FOM\"]/100.) *\n",
    "                             costs[\"investment\"] * Nyears)\n",
    "\n",
    "    costs.at['OCGT', 'fuel'] = costs.at['gas', 'fuel']\n",
    "    costs.at['CCGT', 'fuel'] = costs.at['gas', 'fuel']\n",
    "\n",
    "    costs['marginal_cost'] = costs['VOM'] + costs['fuel'] / costs['efficiency']\n",
    "\n",
    "    costs = costs.rename(columns={\"CO2 intensity\": \"co2_emissions\"})\n",
    "\n",
    "    costs.at['OCGT', 'co2_emissions'] = costs.at['gas', 'co2_emissions']\n",
    "    costs.at['CCGT', 'co2_emissions'] = costs.at['gas', 'co2_emissions']\n",
    "\n",
    "    costs.at['solar', 'capital_cost'] = 0.5*(costs.at['solar-rooftop', 'capital_cost'] +\n",
    "                                             costs.at['solar-utility', 'capital_cost'])\n",
    "\n",
    "    def costs_for_storage(store, link1, link2=None, max_hours=1.):\n",
    "        capital_cost = link1['capital_cost'] + max_hours * store['capital_cost']\n",
    "        if link2 is not None:\n",
    "            capital_cost += link2['capital_cost']\n",
    "        return pd.Series(dict(capital_cost=capital_cost,\n",
    "                              marginal_cost=0.,\n",
    "                              co2_emissions=0.))\n",
    "\n",
    "    if elec_config is None:\n",
    "        elec_config = snakemake.config['electricity']\n",
    "    max_hours = elec_config['max_hours']\n",
    "    costs.loc[\"battery\"] = \\\n",
    "        costs_for_storage(costs.loc[\"battery storage\"], costs.loc[\"battery inverter\"],\n",
    "                          max_hours=max_hours['battery'])\n",
    "    costs.loc[\"H2\"] = \\\n",
    "        costs_for_storage(costs.loc[\"hydrogen storage\"], costs.loc[\"fuel cell\"],\n",
    "                          costs.loc[\"electrolysis\"], max_hours=max_hours['H2'])\n",
    "\n",
    "    for attr in ('marginal_cost', 'capital_cost'):\n",
    "        overwrites = config.get(attr)\n",
    "        if overwrites is not None:\n",
    "            overwrites = pd.Series(overwrites)\n",
    "            costs.loc[overwrites.index, attr] = overwrites\n",
    "\n",
    "    return costs"
   ]
  },
  {
   "cell_type": "code",
   "execution_count": null,
   "metadata": {},
   "outputs": [],
   "source": [
    "tech_costs = \"data/costs.csv\"\n",
    "load_costs(Nyears=1., tech_costs=tech_costs, config=None, elec_config=None)"
   ]
  }
 ],
 "metadata": {
  "kernelspec": {
   "display_name": "pypsa-eur-sp",
   "language": "python",
   "name": "pypsa-eur-sp"
  },
  "language_info": {
   "codemirror_mode": {
    "name": "ipython",
    "version": 3
   },
   "file_extension": ".py",
   "mimetype": "text/x-python",
   "name": "python",
   "nbconvert_exporter": "python",
   "pygments_lexer": "ipython3",
   "version": "3.7.7"
  }
 },
 "nbformat": 4,
 "nbformat_minor": 4
}
